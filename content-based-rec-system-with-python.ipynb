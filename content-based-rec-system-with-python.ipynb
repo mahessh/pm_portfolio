{
 "cells": [
  {
   "cell_type": "code",
   "execution_count": 1,
   "id": "4ba4b5eb",
   "metadata": {
    "_cell_guid": "b1076dfc-b9ad-4769-8c92-a6c4dae69d19",
    "_uuid": "8f2839f25d086af736a60e9eeb907d3b93b6e0e5",
    "execution": {
     "iopub.execute_input": "2023-12-24T18:52:34.794339Z",
     "iopub.status.busy": "2023-12-24T18:52:34.793700Z",
     "iopub.status.idle": "2023-12-24T18:52:37.080546Z",
     "shell.execute_reply": "2023-12-24T18:52:37.079137Z"
    },
    "papermill": {
     "duration": 2.293783,
     "end_time": "2023-12-24T18:52:37.083185",
     "exception": false,
     "start_time": "2023-12-24T18:52:34.789402",
     "status": "completed"
    },
    "tags": []
   },
   "outputs": [
    {
     "name": "stderr",
     "output_type": "stream",
     "text": [
      "/home/codespace/.python/current/lib/python3.10/site-packages/tqdm/auto.py:21: TqdmWarning: IProgress not found. Please update jupyter and ipywidgets. See https://ipywidgets.readthedocs.io/en/stable/user_install.html\n",
      "  from .autonotebook import tqdm as notebook_tqdm\n"
     ]
    },
    {
     "name": "stdout",
     "output_type": "stream",
     "text": [
      "Hello!\n"
     ]
    }
   ],
   "source": [
    "# Inspiration: https://towardsdatascience.com/hands-on-content-based-recommender-system-using-python-1d643bf314e4\n",
    "# This Python 3 environment comes with many helpful analytics libraries installed\n",
    "# It is defined by the kaggle/python Docker image: https://github.com/kaggle/docker-python\n",
    "# For example, here's several helpful packages to load\n",
    "\n",
    "import numpy as np # linear algebra\n",
    "import pandas as pd # data processing, CSV file I/O (e.g. pd.read_csv)\n",
    "\n",
    "# Input data files are available in the read-only \"../input/\" directory\n",
    "# For example, running this (by clicking run or pressing Shift+Enter) will list all files under the input directory\n",
    "\n",
    "import os\n",
    "for dirname, _, filenames in os.walk('/kaggle/input'):\n",
    "    for filename in filenames:\n",
    "        print(os.path.join(dirname, filename))\n",
    "\n",
    "# You can write up to 20GB to the current directory (/kaggle/working/) that gets preserved as output when you create a version using \"Save & Run All\" \n",
    "# You can also write temporary files to /kaggle/temp/, but they won't be saved outside of the current session\n",
    "\n",
    "# Import libraries\n",
    "import matplotlib.pyplot as plt\n",
    "import numpy as np\n",
    "from sentence_transformers import SentenceTransformer # required a pip install\n",
    "import pandas as pd\n",
    "import seaborn as sns\n",
    "from sklearn.feature_extraction.text import CountVectorizer\n",
    "from sklearn.cluster import KMeans\n",
    "from sklearn.metrics.pairwise import cosine_similarity\n",
    "from sklearn.decomposition import PCA\n",
    "plt.style.use('ggplot')\n",
    "plt.rcParams['font.family'] = 'sans-serif' \n",
    "plt.rcParams['font.serif'] = 'Ubuntu' \n",
    "plt.rcParams['font.monospace'] = 'Ubuntu Mono' \n",
    "plt.rcParams['font.size'] = 14 \n",
    "plt.rcParams['axes.labelsize'] = 12 \n",
    "plt.rcParams['axes.labelweight'] = 'bold' \n",
    "plt.rcParams['axes.titlesize'] = 12 \n",
    "plt.rcParams['xtick.labelsize'] = 12 \n",
    "plt.rcParams['ytick.labelsize'] = 12 \n",
    "plt.rcParams['legend.fontsize'] = 12 \n",
    "plt.rcParams['figure.titlesize'] = 12 \n",
    "plt.rcParams['image.cmap'] = 'jet' \n",
    "plt.rcParams['image.interpolation'] = 'none' \n",
    "plt.rcParams['figure.figsize'] = (12, 10) \n",
    "plt.rcParams['axes.grid']=True\n",
    "plt.rcParams['lines.linewidth'] = 2 \n",
    "plt.rcParams['lines.markersize'] = 8\n",
    "colors = ['xkcd:pale orange', 'xkcd:sea blue', 'xkcd:pale red', 'xkcd:sage green', 'xkcd:terra cotta', 'xkcd:dull purple', 'xkcd:teal', 'xkcd: goldenrod', 'xkcd:cadet blue',\n",
    "'xkcd:scarlet']"
   ]
  },
  {
   "cell_type": "code",
   "execution_count": 2,
   "id": "1d34f11b",
   "metadata": {},
   "outputs": [
    {
     "data": {
      "text/html": [
       "<div>\n",
       "<style scoped>\n",
       "    .dataframe tbody tr th:only-of-type {\n",
       "        vertical-align: middle;\n",
       "    }\n",
       "\n",
       "    .dataframe tbody tr th {\n",
       "        vertical-align: top;\n",
       "    }\n",
       "\n",
       "    .dataframe thead th {\n",
       "        text-align: right;\n",
       "    }\n",
       "</style>\n",
       "<table border=\"1\" class=\"dataframe\">\n",
       "  <thead>\n",
       "    <tr style=\"text-align: right;\">\n",
       "      <th></th>\n",
       "      <th>Genre</th>\n",
       "      <th>Overview</th>\n",
       "      <th>Series_Title</th>\n",
       "      <th>Director</th>\n",
       "    </tr>\n",
       "  </thead>\n",
       "  <tbody>\n",
       "    <tr>\n",
       "      <th>0</th>\n",
       "      <td>Drama</td>\n",
       "      <td>Two imprisoned men bond over a number of years...</td>\n",
       "      <td>The Shawshank Redemption</td>\n",
       "      <td>Frank Darabont</td>\n",
       "    </tr>\n",
       "    <tr>\n",
       "      <th>1</th>\n",
       "      <td>Crime, Drama</td>\n",
       "      <td>An organized crime dynasty's aging patriarch t...</td>\n",
       "      <td>The Godfather</td>\n",
       "      <td>Francis Ford Coppola</td>\n",
       "    </tr>\n",
       "    <tr>\n",
       "      <th>2</th>\n",
       "      <td>Action, Crime, Drama</td>\n",
       "      <td>When the menace known as the Joker wreaks havo...</td>\n",
       "      <td>The Dark Knight</td>\n",
       "      <td>Christopher Nolan</td>\n",
       "    </tr>\n",
       "    <tr>\n",
       "      <th>3</th>\n",
       "      <td>Crime, Drama</td>\n",
       "      <td>The early life and career of Vito Corleone in ...</td>\n",
       "      <td>The Godfather: Part II</td>\n",
       "      <td>Francis Ford Coppola</td>\n",
       "    </tr>\n",
       "    <tr>\n",
       "      <th>4</th>\n",
       "      <td>Crime, Drama</td>\n",
       "      <td>A jury holdout attempts to prevent a miscarria...</td>\n",
       "      <td>12 Angry Men</td>\n",
       "      <td>Sidney Lumet</td>\n",
       "    </tr>\n",
       "  </tbody>\n",
       "</table>\n",
       "</div>"
      ],
      "text/plain": [
       "                  Genre                                           Overview  \\\n",
       "0                 Drama  Two imprisoned men bond over a number of years...   \n",
       "1          Crime, Drama  An organized crime dynasty's aging patriarch t...   \n",
       "2  Action, Crime, Drama  When the menace known as the Joker wreaks havo...   \n",
       "3          Crime, Drama  The early life and career of Vito Corleone in ...   \n",
       "4          Crime, Drama  A jury holdout attempts to prevent a miscarria...   \n",
       "\n",
       "               Series_Title              Director  \n",
       "0  The Shawshank Redemption        Frank Darabont  \n",
       "1             The Godfather  Francis Ford Coppola  \n",
       "2           The Dark Knight     Christopher Nolan  \n",
       "3    The Godfather: Part II  Francis Ford Coppola  \n",
       "4              12 Angry Men          Sidney Lumet  "
      ]
     },
     "execution_count": 2,
     "metadata": {},
     "output_type": "execute_result"
    }
   ],
   "source": [
    "# Import dataset\n",
    "data = pd.read_csv('imdb_top_1000.csv')\n",
    "X = np.array(data.Overview)\n",
    "\n",
    "# View the dataset\n",
    "data = data[['Genre','Overview', 'Series_Title', 'Director']]\n",
    "data.head()"
   ]
  },
  {
   "cell_type": "code",
   "execution_count": 3,
   "id": "45cf32ea",
   "metadata": {},
   "outputs": [
    {
     "name": "stderr",
     "output_type": "stream",
     "text": [
      "Batches: 100%|██████████| 32/32 [00:41<00:00,  1.28s/it]\n"
     ]
    }
   ],
   "source": [
    "# Convert text to vector\n",
    "text_data = X\n",
    "model = SentenceTransformer('distilbert-base-nli-mean-tokens')\n",
    "embeddings = model.encode(text_data, show_progress_bar=True)"
   ]
  },
  {
   "cell_type": "code",
   "execution_count": 4,
   "id": "8e9e56e2",
   "metadata": {},
   "outputs": [
    {
     "data": {
      "text/html": [
       "<div>\n",
       "<style scoped>\n",
       "    .dataframe tbody tr th:only-of-type {\n",
       "        vertical-align: middle;\n",
       "    }\n",
       "\n",
       "    .dataframe tbody tr th {\n",
       "        vertical-align: top;\n",
       "    }\n",
       "\n",
       "    .dataframe thead th {\n",
       "        text-align: right;\n",
       "    }\n",
       "</style>\n",
       "<table border=\"1\" class=\"dataframe\">\n",
       "  <thead>\n",
       "    <tr style=\"text-align: right;\">\n",
       "      <th></th>\n",
       "      <th>0</th>\n",
       "      <th>1</th>\n",
       "      <th>2</th>\n",
       "      <th>3</th>\n",
       "      <th>4</th>\n",
       "    </tr>\n",
       "  </thead>\n",
       "  <tbody>\n",
       "    <tr>\n",
       "      <th>0</th>\n",
       "      <td>2.723328</td>\n",
       "      <td>1.605270</td>\n",
       "      <td>4.440936</td>\n",
       "      <td>-2.353442</td>\n",
       "      <td>2.101794</td>\n",
       "    </tr>\n",
       "    <tr>\n",
       "      <th>1</th>\n",
       "      <td>-0.132738</td>\n",
       "      <td>0.886310</td>\n",
       "      <td>4.694763</td>\n",
       "      <td>-2.714986</td>\n",
       "      <td>-1.788204</td>\n",
       "    </tr>\n",
       "    <tr>\n",
       "      <th>2</th>\n",
       "      <td>-5.688069</td>\n",
       "      <td>-1.777760</td>\n",
       "      <td>-0.752677</td>\n",
       "      <td>-0.699669</td>\n",
       "      <td>4.126630</td>\n",
       "    </tr>\n",
       "    <tr>\n",
       "      <th>3</th>\n",
       "      <td>-1.212180</td>\n",
       "      <td>4.458051</td>\n",
       "      <td>1.582215</td>\n",
       "      <td>-3.539145</td>\n",
       "      <td>-2.338916</td>\n",
       "    </tr>\n",
       "    <tr>\n",
       "      <th>4</th>\n",
       "      <td>-0.970992</td>\n",
       "      <td>-2.374561</td>\n",
       "      <td>3.174623</td>\n",
       "      <td>3.070695</td>\n",
       "      <td>-0.175007</td>\n",
       "    </tr>\n",
       "  </tbody>\n",
       "</table>\n",
       "</div>"
      ],
      "text/plain": [
       "          0         1         2         3         4\n",
       "0  2.723328  1.605270  4.440936 -2.353442  2.101794\n",
       "1 -0.132738  0.886310  4.694763 -2.714986 -1.788204\n",
       "2 -5.688069 -1.777760 -0.752677 -0.699669  4.126630\n",
       "3 -1.212180  4.458051  1.582215 -3.539145 -2.338916\n",
       "4 -0.970992 -2.374561  3.174623  3.070695 -0.175007"
      ]
     },
     "execution_count": 4,
     "metadata": {},
     "output_type": "execute_result"
    }
   ],
   "source": [
    "# PCA (optional)\n",
    "X = np.array(embeddings)\n",
    "n_comp = 5\n",
    "pca = PCA(n_components=n_comp)\n",
    "pca.fit(X)\n",
    "pca_data = pd.DataFrame(pca.transform(X))\n",
    "pca_data.head()"
   ]
  },
  {
   "cell_type": "code",
   "execution_count": 6,
   "id": "76a1d097",
   "metadata": {},
   "outputs": [],
   "source": [
    "# Compute cosine similarity and the function to generate recommendations\n",
    "\n",
    "cos_sim_data = pd.DataFrame(cosine_similarity(X))\n",
    "  \n",
    "\n",
    "def give_recommendations(index,print_recommendation = False,print_recommendation_plots= False,print_genres =False):\n",
    "  index_recomm =cos_sim_data.loc[index].sort_values(ascending=False).index.tolist()[1:6]\n",
    "  movies_recomm =  data['Series_Title'].loc[index_recomm].values\n",
    "  result = {'Movies':movies_recomm,'Index':index_recomm}\n",
    "  if print_recommendation==True:\n",
    "    print('The watched movie is this one: %s \\n'%(data['Series_Title'].loc[index]))\n",
    "    k=1\n",
    "    for movie in movies_recomm:\n",
    "      print('The number %i recommended movie is this one: %s \\n'%(k,movie))\n",
    "  if print_recommendation_plots==True:\n",
    "    print('The plot of the watched movie is this one:\\n %s \\n'%(data['Overview'].loc[index]))\n",
    "    k=1\n",
    "    for q in range(len(movies_recomm)):\n",
    "      plot_q = data['Overview'].loc[index_recomm[q]]\n",
    "      print('The plot of the number %i recommended movie is this one:\\n %s \\n'%(k,plot_q))\n",
    "      k=k+1\n",
    "  if print_genres==True:\n",
    "    print('The genres of the watched movie is this one:\\n %s \\n'%(data['Genre'].loc[index]))\n",
    "    k=1\n",
    "    for q in range(len(movies_recomm)):\n",
    "      plot_q = data['Genre'].loc[index_recomm[q]]\n",
    "      print('The plot of the number %i recommended movie is this one:\\n %s \\n'%(k,plot_q))\n",
    "      k=k+1\n",
    "  return result"
   ]
  },
  {
   "cell_type": "code",
   "execution_count": 9,
   "id": "689d2c0e",
   "metadata": {},
   "outputs": [
    {
     "name": "stdout",
     "output_type": "stream",
     "text": [
      "The watched movie is this one: Incendies \n",
      "\n",
      "The number 1 recommended movie is this one: Amour \n",
      "\n",
      "The number 1 recommended movie is this one: Auf der anderen Seite \n",
      "\n",
      "The number 1 recommended movie is this one: Silver Linings Playbook \n",
      "\n",
      "The number 1 recommended movie is this one: Hannah and Her Sisters \n",
      "\n",
      "The number 1 recommended movie is this one: Trois couleurs: Blanc \n",
      "\n"
     ]
    },
    {
     "data": {
      "text/plain": [
       "{'Movies': array(['Amour', 'Auf der anderen Seite', 'Silver Linings Playbook',\n",
       "        'Hannah and Her Sisters', 'Trois couleurs: Blanc'], dtype=object),\n",
       " 'Index': [483, 619, 752, 528, 967]}"
      ]
     },
     "execution_count": 9,
     "metadata": {},
     "output_type": "execute_result"
    }
   ],
   "source": [
    "give_recommendations(90,True)"
   ]
  }
 ],
 "metadata": {
  "kaggle": {
   "accelerator": "none",
   "dataSources": [
    {
     "datasetId": 1131493,
     "sourceId": 1898721,
     "sourceType": "datasetVersion"
    }
   ],
   "dockerImageVersionId": 30626,
   "isGpuEnabled": false,
   "isInternetEnabled": false,
   "language": "python",
   "sourceType": "notebook"
  },
  "kernelspec": {
   "display_name": "Python 3",
   "language": "python",
   "name": "python3"
  },
  "language_info": {
   "codemirror_mode": {
    "name": "ipython",
    "version": 3
   },
   "file_extension": ".py",
   "mimetype": "text/x-python",
   "name": "python",
   "nbconvert_exporter": "python",
   "pygments_lexer": "ipython3",
   "version": "3.10.13"
  },
  "papermill": {
   "default_parameters": {},
   "duration": 5.61567,
   "end_time": "2023-12-24T18:52:37.709277",
   "environment_variables": {},
   "exception": null,
   "input_path": "__notebook__.ipynb",
   "output_path": "__notebook__.ipynb",
   "parameters": {},
   "start_time": "2023-12-24T18:52:32.093607",
   "version": "2.4.0"
  }
 },
 "nbformat": 4,
 "nbformat_minor": 5
}
